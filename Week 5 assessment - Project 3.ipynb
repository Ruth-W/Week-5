{
 "cells": [
  {
   "cell_type": "code",
   "execution_count": null,
   "id": "41ac2288",
   "metadata": {},
   "outputs": [],
   "source": [
    "import warnings\n",
    "warnings.simplefilter('ignore', FutureWarning)\n",
    "\n",
    "import pandas as pd\n",
    "\n",
    "from pandas import *\n",
    "%matplotlib inline"
   ]
  },
  {
   "cell_type": "code",
   "execution_count": null,
   "id": "e8117ad6",
   "metadata": {},
   "outputs": [],
   "source": [
    "#LOCATION = 'comtrade_milk_india_2018.csv'\n",
    "LOCATION = (\"C:\\\\Users\\USER\\Downloads\\WT\\Assessment - Week 5\\comtrade_milk_india_2018.csv\")"
   ]
  },
  {
   "cell_type": "code",
   "execution_count": null,
   "id": "e45aee13",
   "metadata": {},
   "outputs": [],
   "source": [
    "milk = pd.read_csv(LOCATION, dtype={'Commodity Code':str})\n",
    "milk.head()"
   ]
  },
  {
   "cell_type": "code",
   "execution_count": null,
   "id": "3b3c1f4c",
   "metadata": {},
   "outputs": [],
   "source": [
    "def milkType(code):\n",
    "    if code == '0401': # neither concentrated nor sweetened\n",
    "        return 'unprocessed'\n",
    "    if code == '0402': # concentrated or sweetened\n",
    "        return 'processed' \n",
    "    return 'unknown'\n",
    "\n",
    "COMMODITY = 'Milk and cream'\n",
    "milk[COMMODITY] = milk['Commodity Code'].apply(milkType)\n",
    "MONTH = 'Period'\n",
    "PARTNER = 'Partner'\n",
    "FLOW = 'Trade Flow'\n",
    "VALUE = 'Trade Value (US$)'\n",
    "headings = [MONTH, PARTNER, FLOW, COMMODITY, VALUE]\n",
    "milk = milk[headings]\n",
    "milk.head()"
   ]
  },
  {
   "cell_type": "code",
   "execution_count": null,
   "id": "2eb82fc1",
   "metadata": {},
   "outputs": [],
   "source": [
    "milk = milk[milk[PARTNER] != 'World']\n",
    "milk.head()"
   ]
  },
  {
   "cell_type": "code",
   "execution_count": null,
   "id": "d5b34aef",
   "metadata": {},
   "outputs": [],
   "source": [
    "grouped = milk.groupby([FLOW])\n",
    "grouped[VALUE].aggregate(sum)"
   ]
  },
  {
   "cell_type": "code",
   "execution_count": null,
   "id": "efaf85c0",
   "metadata": {},
   "outputs": [],
   "source": [
    "imports = milk[milk[FLOW] == 'Imports']\n",
    "grouped = imports.groupby([PARTNER])\n",
    "print('The UK imports from', len(grouped), 'countries.')\n",
    "print('The 5 biggest exporters to the UK are:')\n",
    "totalImports = grouped[VALUE].aggregate(sum).sort_values(inplace=False,ascending=False)\n",
    "totalImports.head()"
   ]
  },
  {
   "cell_type": "code",
   "execution_count": null,
   "id": "14b84e81",
   "metadata": {},
   "outputs": [],
   "source": [
    "totalImports.head(10).plot(kind='barh')"
   ]
  },
  {
   "cell_type": "code",
   "execution_count": null,
   "id": "481ced86",
   "metadata": {},
   "outputs": [],
   "source": [
    "exports = milk[milk[FLOW] == 'Exports']\n",
    "grouped = exports.groupby([PARTNER])\n",
    "print('The UK exports to', len(grouped), 'countries.')\n",
    "print('The 5 biggest importers from the UK are:')\n",
    "grouped[VALUE].aggregate(sum).sort_values(ascending=False,inplace=False).head()"
   ]
  },
  {
   "cell_type": "code",
   "execution_count": null,
   "id": "6708d6ea",
   "metadata": {},
   "outputs": [],
   "source": [
    "def buysEveryMonth(group):\n",
    "    return len(group) == 10\n",
    "\n",
    "grouped = exports.groupby([PARTNER])\n",
    "regular = grouped.filter(buysEveryMonth)\n",
    "regular[(regular[MONTH] == 201501) & (regular[COMMODITY] == 'processed')]"
   ]
  },
  {
   "cell_type": "code",
   "execution_count": null,
   "id": "450f5964",
   "metadata": {},
   "outputs": [],
   "source": [
    "regular[VALUE].sum() / exports[VALUE].sum()"
   ]
  },
  {
   "cell_type": "code",
   "execution_count": null,
   "id": "cddb1355",
   "metadata": {},
   "outputs": [],
   "source": [
    "countries = pivot_table(milk, index=[PARTNER], columns=[FLOW], \n",
    "                        values=VALUE, aggfunc=sum)\n",
    "countries.head()"
   ]
  },
  {
   "cell_type": "code",
   "execution_count": null,
   "id": "f5cf5fa6",
   "metadata": {},
   "outputs": [],
   "source": [
    "countries.dropna()"
   ]
  }
 ],
 "metadata": {
  "kernelspec": {
   "display_name": "Python 3",
   "language": "python",
   "name": "python3"
  },
  "language_info": {
   "codemirror_mode": {
    "name": "ipython",
    "version": 3
   },
   "file_extension": ".py",
   "mimetype": "text/x-python",
   "name": "python",
   "nbconvert_exporter": "python",
   "pygments_lexer": "ipython3",
   "version": "3.7.6"
  }
 },
 "nbformat": 4,
 "nbformat_minor": 5
}
